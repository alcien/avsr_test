{
 "cells": [
  {
   "cell_type": "code",
   "execution_count": 1,
   "id": "8b657ae4-6894-4f1c-a64b-45e494389581",
   "metadata": {},
   "outputs": [],
   "source": [
    "import os \n",
    "import cv2\n",
    "import sentencepiece as spm\n",
    "import torch\n",
    "from tqdm import tqdm\n"
   ]
  },
  {
   "cell_type": "code",
   "execution_count": null,
   "id": "d4fd7777-76ad-4783-9ded-05b3e82e8888",
   "metadata": {},
   "outputs": [],
   "source": []
  },
  {
   "cell_type": "code",
   "execution_count": 2,
   "id": "1846ebbb-75f7-4fb7-ab49-5acfe25fb6bc",
   "metadata": {},
   "outputs": [],
   "source": [
    "vocab_size = 1207 #토큰 사이즈 "
   ]
  },
  {
   "cell_type": "code",
   "execution_count": 3,
   "id": "464b6ed3-80f3-41ef-a8d3-9b0c243edf6d",
   "metadata": {},
   "outputs": [],
   "source": [
    "model_name = 'model_'+str(vocab_size) #spm 모델 명"
   ]
  },
  {
   "cell_type": "code",
   "execution_count": 4,
   "id": "cc277f3a-93da-4916-a2d8-a7f3e1c3376a",
   "metadata": {},
   "outputs": [],
   "source": [
    "model_type = 'bpe' #토큰화 알고리즘 bpe or unigram"
   ]
  },
  {
   "cell_type": "code",
   "execution_count": 5,
   "id": "322b6c1e-9bc0-4978-b47b-c58c0fa0ac1e",
   "metadata": {},
   "outputs": [
    {
     "name": "stdout",
     "output_type": "stream",
     "text": [
      "fdname trainbpe1207\n"
     ]
    }
   ],
   "source": [
    "fdname = 'train'+model_type+str(vocab_size)\n",
    "print(f'fdname {fdname}')"
   ]
  },
  {
   "cell_type": "code",
   "execution_count": 6,
   "id": "3ef0bd25-b8b3-47a4-b4eb-f2cb00361aaa",
   "metadata": {},
   "outputs": [],
   "source": [
    "fname = '/home/aiv-gpu-019/labels2.txt' #토큰화 알고리즘을 학습시킬 label 파일"
   ]
  },
  {
   "cell_type": "code",
   "execution_count": 7,
   "id": "fc11a58a-2395-4d9f-b5c8-a08c198ae2d9",
   "metadata": {},
   "outputs": [
    {
     "name": "stdout",
     "output_type": "stream",
     "text": [
      "회사 사람들이 다들 나를 피하는 것 같아 우울해\n",
      "뼈에 필요한 영양소는 우유에서 찾는 거지\n",
      "내일 첫 배낚시를 하러 가는데 혹시 날씨가 안 좋으면 취소가 되려나\n",
      "부모님은 내가 미술대학에 진학하는 걸 원하지 않으셔\n",
      "애견 카페에서 나는 제일 싼 음료를 시키고 우리 강아지는 나보다 비싼 간식을 시켜줬지\n"
     ]
    }
   ],
   "source": [
    "f= open(fname, 'r')\n",
    "\n",
    "for i in range(5):\n",
    "    print(f.readline().strip())\n",
    "f.close()\n"
   ]
  },
  {
   "cell_type": "code",
   "execution_count": 8,
   "id": "3fefc3d1-cc4b-40b9-9b27-49fae7bdc0bb",
   "metadata": {},
   "outputs": [],
   "source": [
    "if os.path.isdir(fdname) ==False:\n",
    "    os.mkdir(fdname)"
   ]
  },
  {
   "cell_type": "code",
   "execution_count": 9,
   "id": "0b20b4d0-ba21-4c81-8751-75906252bd8f",
   "metadata": {},
   "outputs": [
    {
     "name": "stdout",
     "output_type": "stream",
     "text": [
      "/home/aiv-gpu-019/trainbpe1207\n"
     ]
    },
    {
     "name": "stderr",
     "output_type": "stream",
     "text": [
      "/home/aiv-gpu-019/.local/lib/python3.10/site-packages/IPython/core/magics/osm.py:417: UserWarning: This is now an optional IPython functionality, setting dhist requires you to install the `pickleshare` library.\n",
      "  self.shell.db['dhist'] = compress_dhist(dhist)[-100:]\n"
     ]
    }
   ],
   "source": [
    "%cd {fdname}"
   ]
  },
  {
   "cell_type": "code",
   "execution_count": null,
   "id": "466d69cc-66cc-4909-bb7a-33f560e07810",
   "metadata": {},
   "outputs": [],
   "source": []
  },
  {
   "cell_type": "code",
   "execution_count": 10,
   "id": "9daf9933-19f3-4584-9c1a-4a59a3992487",
   "metadata": {},
   "outputs": [
    {
     "name": "stderr",
     "output_type": "stream",
     "text": [
      "sentencepiece_trainer.cc(178) LOG(INFO) Running command: --input=/home/aiv-gpu-019/labels2.txt --model_prefix=model_1207 --vocab_size=1207 --model_type=bpe --max_sentence_length=999999 --pad_id=1 --pad_piece=<pad> --unk_id=2 --unk_piece=<unk> --bos_id=3 --bos_piece=<sos> --eos_id=4 --eos_piece=<eos> --user_defined_symbols=<sep>,<cls>,<mask>\n",
      "sentencepiece_trainer.cc(78) LOG(INFO) Starts training with : \n",
      "trainer_spec {\n",
      "  input: /home/aiv-gpu-019/labels2.txt\n",
      "  input_format: \n",
      "  model_prefix: model_1207\n",
      "  model_type: BPE\n",
      "  vocab_size: 1207\n",
      "  self_test_sample_size: 0\n",
      "  character_coverage: 0.9995\n",
      "  input_sentence_size: 0\n",
      "  shuffle_input_sentence: 1\n",
      "  seed_sentencepiece_size: 1000000\n",
      "  shrinking_factor: 0.75\n",
      "  max_sentence_length: 999999\n",
      "  num_threads: 16\n",
      "  num_sub_iterations: 2\n",
      "  max_sentencepiece_length: 16\n",
      "  split_by_unicode_script: 1\n",
      "  split_by_number: 1\n",
      "  split_by_whitespace: 1\n",
      "  split_digits: 0\n",
      "  pretokenization_delimiter: \n",
      "  treat_whitespace_as_suffix: 0\n",
      "  allow_whitespace_only_pieces: 0\n",
      "  user_defined_symbols: <sep>\n",
      "  user_defined_symbols: <cls>\n",
      "  user_defined_symbols: <mask>\n",
      "  required_chars: \n",
      "  byte_fallback: 0\n",
      "  vocabulary_output_piece_score: 1\n",
      "  train_extremely_large_corpus: 0\n",
      "  seed_sentencepieces_file: \n",
      "  hard_vocab_limit: 1\n",
      "  use_all_vocab: 0\n",
      "  unk_id: 2\n",
      "  bos_id: 3\n",
      "  eos_id: 4\n",
      "  pad_id: 1\n",
      "  unk_piece: <unk>\n",
      "  bos_piece: <sos>\n",
      "  eos_piece: <eos>\n",
      "  pad_piece: <pad>\n",
      "  unk_surface:  ⁇ \n",
      "  enable_differential_privacy: 0\n",
      "  differential_privacy_noise_level: 0\n",
      "  differential_privacy_clipping_threshold: 0\n",
      "}\n",
      "normalizer_spec {\n",
      "  name: nmt_nfkc\n",
      "  add_dummy_prefix: 1\n",
      "  remove_extra_whitespaces: 1\n",
      "  escape_whitespaces: 1\n",
      "  normalization_rule_tsv: \n",
      "}\n",
      "denormalizer_spec {}\n",
      "trainer_interface.cc(353) LOG(INFO) SentenceIterator is not specified. Using MultiFileSentenceIterator.\n",
      "trainer_interface.cc(185) LOG(INFO) Loading corpus: /home/aiv-gpu-019/labels2.txt\n",
      "trainer_interface.cc(409) LOG(INFO) Loaded all 296043 sentences\n",
      "trainer_interface.cc(425) LOG(INFO) Adding meta_piece: <sep>\n",
      "trainer_interface.cc(425) LOG(INFO) Adding meta_piece: <pad>\n",
      "trainer_interface.cc(425) LOG(INFO) Adding meta_piece: <unk>\n",
      "trainer_interface.cc(425) LOG(INFO) Adding meta_piece: <sos>\n",
      "trainer_interface.cc(425) LOG(INFO) Adding meta_piece: <eos>\n",
      "trainer_interface.cc(425) LOG(INFO) Adding meta_piece: <cls>\n",
      "trainer_interface.cc(425) LOG(INFO) Adding meta_piece: <mask>\n",
      "trainer_interface.cc(430) LOG(INFO) Normalizing sentences...\n",
      "trainer_interface.cc(539) LOG(INFO) all chars count=10489858\n",
      "trainer_interface.cc(550) LOG(INFO) Done: 99.9503% characters are covered.\n",
      "trainer_interface.cc(560) LOG(INFO) Alphabet size=1131\n",
      "trainer_interface.cc(561) LOG(INFO) Final character coverage=0.999503\n",
      "trainer_interface.cc(592) LOG(INFO) Done! preprocessed 296043 sentences.\n",
      "trainer_interface.cc(598) LOG(INFO) Tokenizing input sentences with whitespace: 296043\n",
      "trainer_interface.cc(609) LOG(INFO) Done! 94638\n",
      "bpe_model_trainer.cc(159) LOG(INFO) Updating active symbols. max_freq=65085 min_freq=600\n",
      "bpe_model_trainer.cc(268) LOG(INFO) Added: freq=29537 size=20 all=40391 active=4086 piece=▁좋\n",
      "bpe_model_trainer.cc(268) LOG(INFO) Added: freq=20879 size=40 all=42133 active=5828 piece=▁한\n",
      "bpe_model_trainer.cc(268) LOG(INFO) Added: freq=16149 size=60 all=44173 active=7868 piece=했어\n",
      "trainer_interface.cc(687) LOG(INFO) Saving model: model_1207.model\n",
      "trainer_interface.cc(699) LOG(INFO) Saving vocabs: model_1207.vocab\n"
     ]
    }
   ],
   "source": [
    "\n",
    "\n",
    "# SentencePiece 모델을 사용자 정의 어휘로 학습\n",
    "spm.SentencePieceTrainer.train(\n",
    "  f\"--input={fname} --model_prefix={model_name} --vocab_size={str(vocab_size)}\"+\n",
    "    f\" --model_type={model_type}\" +\n",
    "    \" --max_sentence_length=999999\" + # 문장 최대 길이 (너무 길면 에러발생)\n",
    "    \" --pad_id=1 --pad_piece=<pad>\" + # pad (0)\n",
    "    \" --unk_id=2 --unk_piece=<unk>\" + # unknown (1)\n",
    "    \" --bos_id=3 --bos_piece=<sos>\" + # begin of sequence (2)\n",
    "    \" --eos_id=4 --eos_piece=<eos>\" +  # end of sequence (3)\n",
    "    \" --user_defined_symbols=<sep>,<cls>,<mask>\") # 사용자 정의 토큰\n"
   ]
  },
  {
   "cell_type": "code",
   "execution_count": 11,
   "id": "d7267d07-8d35-4f41-9284-709207fde827",
   "metadata": {},
   "outputs": [
    {
     "name": "stdout",
     "output_type": "stream",
     "text": [
      "<sep>\t0\n",
      "<pad>\t0\n",
      "<unk>\t0\n",
      "<sos>\t0\n",
      "<eos>\t0\n",
      "<cls>\t0\n",
      "<mask>\t0\n",
      "는데\t-0\n",
      "▁나\t-1\n",
      "▁있\t-2\n",
      "▁이\t-3\n",
      "▁아\t-4\n",
      "▁하\t-5\n",
      "▁가\t-6\n",
      "▁내\t-7\n",
      "▁사\t-8\n",
      "▁그\t-9\n",
      "에서\t-10\n",
      "▁같\t-11\n",
      "▁다\t-12\n",
      "▁어\t-13\n",
      "▁해\t-14\n",
      "▁너\t-15\n",
      "▁너무\t-16\n",
      "▁많\t-17\n",
      "▁것\t-18\n",
      "▁좋\t-19\n",
      "친구\t-20\n",
      "▁보\t-21\n",
      "▁오\t-22\n"
     ]
    }
   ],
   "source": [
    "%cat {model_name}.vocab | head -n 30"
   ]
  },
  {
   "cell_type": "code",
   "execution_count": 12,
   "id": "afc9cd5d-6ac0-4063-b08e-53b3261e5ea9",
   "metadata": {},
   "outputs": [
    {
     "data": {
      "text/plain": [
       "True"
      ]
     },
     "execution_count": 12,
     "metadata": {},
     "output_type": "execute_result"
    }
   ],
   "source": [
    "#아래는  모델에서 사용할 vocab 파일 생성을 위함 \n",
    "sp = spm.SentencePieceProcessor()\n",
    "sp.Load(f\"{model_name}.model\")"
   ]
  },
  {
   "cell_type": "code",
   "execution_count": 13,
   "id": "fe0bce28-18e4-4296-ab75-b86777c76a64",
   "metadata": {},
   "outputs": [],
   "source": [
    "vocab = {i: sp.IdToPiece(i) for i in range(sp.GetPieceSize())}"
   ]
  },
  {
   "cell_type": "code",
   "execution_count": 14,
   "id": "13c0bec9-21b0-425f-b2f4-7a891fea9ecf",
   "metadata": {},
   "outputs": [],
   "source": [
    "with open(f\"{model_name}_init.txt\", \"w\") as f_out:\n",
    "    for idx, (_, s) in enumerate(sorted(vocab.items(), key=lambda x: x[0])):\n",
    "        f_out.write(f\"{s} {idx+1}\\n\")"
   ]
  },
  {
   "cell_type": "code",
   "execution_count": 15,
   "id": "84b93f65-03e3-4393-a64b-008b8a756cb6",
   "metadata": {},
   "outputs": [],
   "source": [
    "#파일 학습에 쓰도록 파일명 변경"
   ]
  },
  {
   "cell_type": "code",
   "execution_count": 16,
   "id": "2ff2593f-2447-4e1f-b68f-f9857da3dcbd",
   "metadata": {},
   "outputs": [],
   "source": [
    "%mv {model_name}.model unigram5000.model\n",
    "%mv {model_name}.vocab unigram5000.vocab\n",
    "%mv {model_name}_init.txt unigram5000_units.txt"
   ]
  },
  {
   "cell_type": "code",
   "execution_count": null,
   "id": "ee6b8216-6a3f-4a8b-8866-af5dc22bbff4",
   "metadata": {},
   "outputs": [],
   "source": [
    "# 모델 토큰 파일로 위치 복사"
   ]
  },
  {
   "cell_type": "code",
   "execution_count": 17,
   "id": "44606623-56ba-42e3-9bad-53af5a73f90d",
   "metadata": {},
   "outputs": [],
   "source": [
    "dstD = '/DATA/temp/auto_avsr/spm/unigram'"
   ]
  },
  {
   "cell_type": "code",
   "execution_count": 18,
   "id": "f00ac00e-390b-4bd1-a8f1-f349b430291f",
   "metadata": {},
   "outputs": [
    {
     "name": "stdout",
     "output_type": "stream",
     "text": [
      "/home/aiv-gpu-019\n"
     ]
    }
   ],
   "source": [
    "%cd ..\n",
    "%cp -r {fdname} {dstD}"
   ]
  },
  {
   "cell_type": "code",
   "execution_count": 19,
   "id": "a5c27552-e027-4964-886a-a2ae307e095c",
   "metadata": {},
   "outputs": [
    {
     "data": {
      "text/plain": [
       "'\\n%cp unigram5000.model {dstD}\\n%cp unigram5000.vocab {dstD}\\n%cp unigram5000_units.txt {dstD}\\n'"
      ]
     },
     "execution_count": 19,
     "metadata": {},
     "output_type": "execute_result"
    }
   ],
   "source": [
    "'''\n",
    "%cp unigram5000.model {dstD}\n",
    "%cp unigram5000.vocab {dstD}\n",
    "%cp unigram5000_units.txt {dstD}\n",
    "'''"
   ]
  },
  {
   "cell_type": "code",
   "execution_count": null,
   "id": "3a26ee3a-762d-4b91-a648-c4f48e7bff0f",
   "metadata": {},
   "outputs": [],
   "source": []
  },
  {
   "cell_type": "code",
   "execution_count": null,
   "id": "d24cfc4e-993f-4ea9-aae8-0d899c9462f1",
   "metadata": {},
   "outputs": [],
   "source": []
  },
  {
   "cell_type": "code",
   "execution_count": null,
   "id": "4156a3e6-9ac7-4472-a703-d420e8974aab",
   "metadata": {},
   "outputs": [],
   "source": []
  },
  {
   "cell_type": "code",
   "execution_count": null,
   "id": "07bbbd7c-81ec-4162-b705-31e6c841fffd",
   "metadata": {},
   "outputs": [],
   "source": []
  },
  {
   "cell_type": "code",
   "execution_count": null,
   "id": "345ceb72-b0ca-4869-9642-31d31f73c00a",
   "metadata": {},
   "outputs": [],
   "source": []
  }
 ],
 "metadata": {
  "kernelspec": {
   "display_name": "Python 3 (ipykernel)",
   "language": "python",
   "name": "python3"
  },
  "language_info": {
   "codemirror_mode": {
    "name": "ipython",
    "version": 3
   },
   "file_extension": ".py",
   "mimetype": "text/x-python",
   "name": "python",
   "nbconvert_exporter": "python",
   "pygments_lexer": "ipython3",
   "version": "3.10.12"
  }
 },
 "nbformat": 4,
 "nbformat_minor": 5
}
